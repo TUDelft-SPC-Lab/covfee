{
 "cells": [
  {
   "cell_type": "code",
   "execution_count": 1,
   "metadata": {},
   "outputs": [],
   "source": [
    "from pyparsing import Word, alphas, nums, Forward, infixNotation, opAssoc, CaselessKeyword, one_of, oneOf"
   ]
  },
  {
   "cell_type": "code",
   "execution_count": 2,
   "metadata": {},
   "outputs": [],
   "source": [
    "start_conditions = [\"NOW > 78909\", \"N > 5\", \"now >= 374343 AND n > 5\"]\n",
    "stop_conditions = [\"NOW > 78909\", \"NOT N < 5\", \"now >= 374343 AND n < 5\"]"
   ]
  },
  {
   "cell_type": "code",
   "execution_count": 3,
   "metadata": {},
   "outputs": [],
   "source": [
    "# Define basic elements (operands)\n",
    "identifier = oneOf([\"NOW\", \"N\"], caseless=True)\n",
    "number = Word(nums)\n",
    "operand = identifier | number\n",
    "\n",
    "# Define operators\n",
    "comparison_operator = oneOf(\"< <= > >=\")\n",
    "and_operator = CaselessKeyword(\"AND\")\n",
    "or_operator = CaselessKeyword(\"OR\")\n",
    "not_operator = CaselessKeyword(\"NOT\")\n",
    "\n",
    "# Grammar definition using infixNotation\n",
    "expression = infixNotation(\n",
    "    operand,\n",
    "    [\n",
    "        (comparison_operator, 2, opAssoc.LEFT),  # Comparison operators\n",
    "        (not_operator, 1, opAssoc.RIGHT),  # NOT operator - unary, right associative\n",
    "        (and_operator, 2, opAssoc.LEFT),  # AND operator\n",
    "        (or_operator, 2, opAssoc.LEFT),  # OR operator\n",
    "    ],\n",
    ")"
   ]
  },
  {
   "cell_type": "code",
   "execution_count": 14,
   "metadata": {},
   "outputs": [],
   "source": [
    "def eval_expression(parsed, var_values):\n",
    "    if isinstance(parsed, str):\n",
    "        if parsed in var_values:\n",
    "            return var_values[parsed]\n",
    "        else:\n",
    "            # Assume it's a literal number\n",
    "            return float(parsed)\n",
    "    else:\n",
    "        if len(parsed) == 1:\n",
    "            return eval_expression(parsed[0], var_values)\n",
    "        elif len(parsed) == 2:\n",
    "            assert parsed[0] == \"NOT\"\n",
    "            return not eval_expression(parsed[1], var_values)\n",
    "        elif len(parsed) == 3:\n",
    "            op = parsed[1]\n",
    "            if op in [\"<\", \"<=\", \">\", \">=\"]:\n",
    "                # Comparison operators\n",
    "                left = eval_expression(parsed[0], var_values)\n",
    "                right = eval_expression(parsed[2], var_values)\n",
    "                return eval(f\"{left} {op} {right}\")\n",
    "            elif op in [\"AND\", \"OR\"]:\n",
    "                # Logical operators\n",
    "                left = eval_expression(parsed[0], var_values)\n",
    "                right = eval_expression(parsed[2], var_values)\n",
    "                if op == \"AND\":\n",
    "                    return left and right\n",
    "                elif op == \"OR\":\n",
    "                    return left or right\n",
    "        else:\n",
    "            raise NotImplementedError()"
   ]
  },
  {
   "cell_type": "code",
   "execution_count": 15,
   "metadata": {},
   "outputs": [
    {
     "name": "stdout",
     "output_type": "stream",
     "text": [
      "[['NOW', '>', '78909']]\n",
      "True\n",
      "[['N', '>', '5']]\n",
      "False\n",
      "[[['NOW', '>=', '374343'], 'AND', ['N', '>', '5']]]\n",
      "False\n",
      "[['NOW', '>', '78909']]\n",
      "True\n",
      "[['NOT', ['N', '<', '5']]]\n",
      "False\n",
      "[[['NOW', '>=', '374343'], 'AND', ['N', '<', '5']]]\n",
      "True\n"
     ]
    }
   ],
   "source": [
    "for expr in start_conditions + stop_conditions:\n",
    "    parsed_expr = expression.parseString(expr)\n",
    "    print(parsed_expr.asList())\n",
    "    print(eval_expression(parsed_expr, {'NOW': 923120, 'N': 3}))"
   ]
  },
  {
   "cell_type": "code",
   "execution_count": 16,
   "metadata": {},
   "outputs": [],
   "source": [
    "pl = parsed_expr.asList()"
   ]
  },
  {
   "cell_type": "code",
   "execution_count": 12,
   "metadata": {},
   "outputs": [
    {
     "data": {
      "text/plain": [
       "str"
      ]
     },
     "execution_count": 12,
     "metadata": {},
     "output_type": "execute_result"
    }
   ],
   "source": [
    "type(pl[0][0][2])"
   ]
  },
  {
   "cell_type": "code",
   "execution_count": null,
   "metadata": {},
   "outputs": [],
   "source": []
  }
 ],
 "metadata": {
  "kernelspec": {
   "display_name": "evo",
   "language": "python",
   "name": "python3"
  },
  "language_info": {
   "codemirror_mode": {
    "name": "ipython",
    "version": 3
   },
   "file_extension": ".py",
   "mimetype": "text/x-python",
   "name": "python",
   "nbconvert_exporter": "python",
   "pygments_lexer": "ipython3",
   "version": "3.8.16"
  }
 },
 "nbformat": 4,
 "nbformat_minor": 2
}
